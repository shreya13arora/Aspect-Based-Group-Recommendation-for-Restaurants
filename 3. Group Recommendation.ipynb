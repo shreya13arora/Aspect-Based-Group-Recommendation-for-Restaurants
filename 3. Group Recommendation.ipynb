{
 "cells": [
  {
   "cell_type": "code",
   "execution_count": 1,
   "metadata": {
    "ExecuteTime": {
     "end_time": "2021-05-17T04:18:43.948491Z",
     "start_time": "2021-05-17T04:18:32.515397Z"
    }
   },
   "outputs": [],
   "source": [
    "import pandas as pd\n",
    "import random\n",
    "import numpy as np"
   ]
  },
  {
   "cell_type": "code",
   "execution_count": 2,
   "metadata": {
    "ExecuteTime": {
     "end_time": "2021-05-17T04:20:46.068021Z",
     "start_time": "2021-05-17T04:20:45.716248Z"
    }
   },
   "outputs": [],
   "source": [
    "# # Reading files\n",
    "restaurant_df = pd.read_csv(r'C:\\Users\\Chief\\Documents\\Praxis\\Capstone Project\\Notebooks\\threshold\\restaurant_ratings_16052021_0.18.csv')\n",
    "user_df = pd.read_csv(r'C:\\Users\\Chief\\Documents\\Praxis\\Capstone Project\\Notebooks\\threshold\\user_weights_16052021_0.18.csv')\n",
    "#business_df = pd.read_csv(r'C:\\Users\\Chief\\Documents\\Praxis\\Capstone Project\\Dataset\\Cambridge\\cambridge_business.csv')"
   ]
  },
  {
   "cell_type": "code",
   "execution_count": 3,
   "metadata": {
    "ExecuteTime": {
     "end_time": "2021-05-17T04:20:47.131896Z",
     "start_time": "2021-05-17T04:20:46.766316Z"
    }
   },
   "outputs": [
    {
     "data": {
      "text/html": [
       "<div>\n",
       "<style scoped>\n",
       "    .dataframe tbody tr th:only-of-type {\n",
       "        vertical-align: middle;\n",
       "    }\n",
       "\n",
       "    .dataframe tbody tr th {\n",
       "        vertical-align: top;\n",
       "    }\n",
       "\n",
       "    .dataframe thead th {\n",
       "        text-align: right;\n",
       "    }\n",
       "</style>\n",
       "<table border=\"1\" class=\"dataframe\">\n",
       "  <thead>\n",
       "    <tr style=\"text-align: right;\">\n",
       "      <th></th>\n",
       "      <th>restaurant</th>\n",
       "      <th>name</th>\n",
       "    </tr>\n",
       "  </thead>\n",
       "  <tbody>\n",
       "    <tr>\n",
       "      <th>0</th>\n",
       "      <td>XDv29FffNd2dWnDOtZP-wg</td>\n",
       "      <td>Sapporo Ramen</td>\n",
       "    </tr>\n",
       "    <tr>\n",
       "      <th>1</th>\n",
       "      <td>HxegWRjhi7m73mXRI8qQIg</td>\n",
       "      <td>Rangzen Tibetan Place</td>\n",
       "    </tr>\n",
       "    <tr>\n",
       "      <th>2</th>\n",
       "      <td>Vd4aepl7CMBYWsZ97iRFtg</td>\n",
       "      <td>Boston Marriott Cambridge</td>\n",
       "    </tr>\n",
       "    <tr>\n",
       "      <th>3</th>\n",
       "      <td>#NAME?</td>\n",
       "      <td>Broadsheet Coffee Roasters</td>\n",
       "    </tr>\n",
       "    <tr>\n",
       "      <th>4</th>\n",
       "      <td>2XoPo7BcS4AQQAnsYp5Jhg</td>\n",
       "      <td>Pammy's</td>\n",
       "    </tr>\n",
       "  </tbody>\n",
       "</table>\n",
       "</div>"
      ],
      "text/plain": [
       "               restaurant                        name\n",
       "0  XDv29FffNd2dWnDOtZP-wg               Sapporo Ramen\n",
       "1  HxegWRjhi7m73mXRI8qQIg       Rangzen Tibetan Place\n",
       "2  Vd4aepl7CMBYWsZ97iRFtg   Boston Marriott Cambridge\n",
       "3                  #NAME?  Broadsheet Coffee Roasters\n",
       "4  2XoPo7BcS4AQQAnsYp5Jhg                     Pammy's"
      ]
     },
     "execution_count": 3,
     "metadata": {},
     "output_type": "execute_result"
    }
   ],
   "source": [
    "# Creating New file for storing just the restaurant ID and it's Name\n",
    "#business_df = business_df[['restaurant', 'name' ]]\n",
    "#business_df.to_csv('restaurant_name.csv', index = False)\n",
    "restaurant_name = pd.read_csv('restaurant_name.csv')\n",
    "restaurant_name.head()"
   ]
  },
  {
   "cell_type": "code",
   "execution_count": 3,
   "metadata": {
    "ExecuteTime": {
     "end_time": "2021-05-05T15:26:31.726560Z",
     "start_time": "2021-05-05T15:26:31.716148Z"
    }
   },
   "outputs": [
    {
     "name": "stdout",
     "output_type": "stream",
     "text": [
      "331\n",
      "53647\n"
     ]
    }
   ],
   "source": [
    "# # length of files\n",
    "# print(len(restaurant1))\n",
    "# print(len(user1))"
   ]
  },
  {
   "cell_type": "code",
   "execution_count": 6,
   "metadata": {
    "ExecuteTime": {
     "end_time": "2021-05-17T04:21:34.481610Z",
     "start_time": "2021-05-17T04:21:33.403295Z"
    }
   },
   "outputs": [
    {
     "data": {
      "text/plain": [
       "12     &pizza - Harvard Square\n",
       "150      Curio Coffee and Wine\n",
       "300           Harvest of India\n",
       "Name: name, dtype: object"
      ]
     },
     "execution_count": 6,
     "metadata": {},
     "output_type": "execute_result"
    }
   ],
   "source": [
    "user_friends_list = ['u0x3SXagjYDbI2N4sgJ0Tw','80MUDP_Ny_J8jeShVxzdlw','p8yQsVA51dzkc9cecDpvrw',\"byro3oSQQ1gRESKlfiAqtQ\"]\n",
    "\n",
    "def groupingStrategy(restaurant_user_df,group_members):\n",
    "    restaurant_user_df['Total_Score'] = 1\n",
    "    for i in group_members:\n",
    "        restaurant_user_df['Total_Score'] = restaurant_user_df['Total_Score'].mul(restaurant_user_df[i])\n",
    "    return restaurant_user_df\n",
    "    \n",
    "def getRecommendation(user_friends_list,restaurant_df,user_df,restaurant_name,top_n,user_id): #Business_df with file name\n",
    "    \n",
    "    # Replace zero by 1 to give some importance and help multiplication\n",
    "    restaurant_df = restaurant_df.replace(np.nan, 1)\n",
    "    user_df = user_df.replace(np.nan,20)\n",
    "    \n",
    "    restaurant_df_matrix = restaurant_df.set_index('restaurant').values\n",
    "    ## Add the user in the list who is looking for recommendation\n",
    "    user_friends_list.append(user_id)\n",
    "    ## From our user_df get the User behaviour of all the group members\n",
    "    selected_user = user_df[user_df['user'].isin(user_friends_list)]\n",
    "    ## Essentially performing Multiplication of Weights and Rating is MatriX Multiplication of the Data frames\n",
    "    user_df_T_matrix = selected_user.set_index('user').transpose().values\n",
    "    restaurant_user_matrix = restaurant_df_matrix.dot(user_df_T_matrix) \n",
    "    ## Create a Dataframe from 2D Matrix by naming the columns and indices\n",
    "    new_df = pd.DataFrame(restaurant_user_matrix,columns= selected_user['user'],index= restaurant_df['restaurant'])\n",
    "    ## Send this dataframe for getting Grouping Strategy process\n",
    "    final_df = groupingStrategy(new_df,selected_user['user'].values)\n",
    "    final_df = final_df.sort_values(by='Total_Score',ascending= False)\n",
    "    ## Return a list of Top N Restaurants \n",
    "    top_id = final_df.index[:top_n]\n",
    "    \n",
    "    return restaurant_name.name.loc[restaurant_name['restaurant'].isin(top_id)]\n",
    "\n",
    "getRecommendation(user_friends_list,restaurant_df,user_df,restaurant_name,3,'k0d3Jnxulohu1HdJj1Hfkg')"
   ]
  },
  {
   "cell_type": "code",
   "execution_count": null,
   "metadata": {},
   "outputs": [],
   "source": []
  }
 ],
 "metadata": {
  "hide_input": false,
  "kernelspec": {
   "display_name": "Python 3",
   "language": "python",
   "name": "python3"
  },
  "language_info": {
   "codemirror_mode": {
    "name": "ipython",
    "version": 3
   },
   "file_extension": ".py",
   "mimetype": "text/x-python",
   "name": "python",
   "nbconvert_exporter": "python",
   "pygments_lexer": "ipython3",
   "version": "3.8.5"
  },
  "toc": {
   "base_numbering": 1,
   "nav_menu": {},
   "number_sections": true,
   "sideBar": true,
   "skip_h1_title": false,
   "title_cell": "Table of Contents",
   "title_sidebar": "Contents",
   "toc_cell": false,
   "toc_position": {},
   "toc_section_display": true,
   "toc_window_display": false
  },
  "varInspector": {
   "cols": {
    "lenName": 16,
    "lenType": 16,
    "lenVar": 40
   },
   "kernels_config": {
    "python": {
     "delete_cmd_postfix": "",
     "delete_cmd_prefix": "del ",
     "library": "var_list.py",
     "varRefreshCmd": "print(var_dic_list())"
    },
    "r": {
     "delete_cmd_postfix": ") ",
     "delete_cmd_prefix": "rm(",
     "library": "var_list.r",
     "varRefreshCmd": "cat(var_dic_list()) "
    }
   },
   "oldHeight": 122.22200000000001,
   "position": {
    "height": "40px",
    "left": "1436.67px",
    "right": "20px",
    "top": "120px",
    "width": "250px"
   },
   "types_to_exclude": [
    "module",
    "function",
    "builtin_function_or_method",
    "instance",
    "_Feature"
   ],
   "varInspector_section_display": "none",
   "window_display": true
  }
 },
 "nbformat": 4,
 "nbformat_minor": 4
}
