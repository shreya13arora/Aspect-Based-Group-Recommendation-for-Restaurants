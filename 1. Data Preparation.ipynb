{
 "cells": [
  {
   "cell_type": "markdown",
   "metadata": {
    "heading_collapsed": true
   },
   "source": [
    "### Import Libraries"
   ]
  },
  {
   "cell_type": "code",
   "execution_count": null,
   "metadata": {
    "hidden": true
   },
   "outputs": [],
   "source": [
    "import os\n",
    "import json\n",
    "from tqdm import tqdm\n",
    "\n",
    "import numpy as np\n",
    "import pandas as pd\n",
    "import matplotlib.pyplot as plt\n",
    "import seaborn as sns\n",
    "\n",
    "from langdetect import detect\n",
    "import regex as re\n",
    "import wordcloud\n",
    "from collections import Counter\n",
    "from nltk.tokenize import RegexpTokenizer\n",
    "from stop_words import get_stop_words\n",
    "import nltk\n",
    "from nltk.corpus import stopwords\n",
    "from nltk import sent_tokenize, word_tokenize\n",
    "import re\n",
    "\n",
    "\n",
    "import spacy\n",
    "myspacy = spacy.load('en_core_web_sm')\n",
    "nltk.download('stopwords')\n",
    "nltk.download('punkt')\n",
    "\n",
    "import warnings\n",
    "warnings.filterwarnings('ignore')"
   ]
  },
  {
   "cell_type": "markdown",
   "metadata": {
    "heading_collapsed": true
   },
   "source": [
    "### Import Dataset"
   ]
  },
  {
   "cell_type": "markdown",
   "metadata": {
    "hidden": true
   },
   "source": [
    "#### Converting JSON to DataFrame"
   ]
  },
  {
   "cell_type": "code",
   "execution_count": null,
   "metadata": {
    "hidden": true
   },
   "outputs": [],
   "source": [
    "reviews = {'review_id' : [], 'business_id' : [], 'user_id' : [], \n",
    "           'stars': [], 'text': [], 'date' : [], \n",
    "           'useful' : [], 'funny': [], 'cool': []}\n",
    "\n",
    "business = {'business_id' : [], 'name' : [], 'address' : [], \n",
    "           'city': [], 'state': [], 'postal_code' : [], \n",
    "           'stars' : [], 'review_count': [], 'is_open': [], 'categories': []}\n",
    "\n",
    "users = {'user_id': [],'name': [],'review_count': [],\n",
    "        'yelping_since': [],'useful': [],'funny': [],\n",
    "        'cool': [],'elite': [],'fans': [],'friends': []}\n",
    "\n",
    "def convert2df(filename,df_structure):\n",
    "    with open(filename) as f:\n",
    "        for line in tqdm(f):\n",
    "            row = json.loads(line)\n",
    "                for i in df_structure.keys():\n",
    "                    df_structure[i].append(row[i])\n",
    "    return df_structure"
   ]
  },
  {
   "cell_type": "code",
   "execution_count": null,
   "metadata": {
    "hidden": true
   },
   "outputs": [],
   "source": [
    "business_dict = convert2df(\"yelp_academic_dataset_business.json\",business)\n",
    "business_df = pd.DataFrame.from_dict(business_dict)\n",
    "business_df.head()"
   ]
  },
  {
   "cell_type": "code",
   "execution_count": null,
   "metadata": {
    "hidden": true
   },
   "outputs": [],
   "source": [
    "reviews_dict = convert2df(\"yelp_academic_dataset_reviews.json\",reviews)\n",
    "reviews_df = pd.DataFrame.from_dict(reviews_dict)\n",
    "reviews_df.head()"
   ]
  },
  {
   "cell_type": "code",
   "execution_count": null,
   "metadata": {
    "hidden": true
   },
   "outputs": [],
   "source": [
    "users_dict = convert2df(\"yelp_academic_dataset_users.json\",users)\n",
    "users_df = pd.DataFrame.from_dict(users_dict)\n",
    "users_df.head()"
   ]
  },
  {
   "cell_type": "markdown",
   "metadata": {
    "heading_collapsed": true
   },
   "source": [
    "### Data Filtering"
   ]
  },
  {
   "cell_type": "markdown",
   "metadata": {
    "hidden": true
   },
   "source": [
    "#### Filter 1 ( you can save the file into .csv after every step to avoid repeating steps due to system hangs due to OutOfMemoryError )\n",
    "- Filtering only Restaurant Businesses , which are open and have more than 50 reviews.\n",
    "- Retain the reviews of the filtered restaurants\n",
    "- Retain the users who have given more than 50 reviews"
   ]
  },
  {
   "cell_type": "code",
   "execution_count": null,
   "metadata": {
    "hidden": true
   },
   "outputs": [],
   "source": [
    "business_df = business_df[(business_df['categories'].str.contains('Restaurants')==True) & \n",
    "                            (business_df[\"is_open\"]== 1) & (business_df[\"review_count\"] >= 50)"
   ]
  },
  {
   "cell_type": "code",
   "execution_count": null,
   "metadata": {
    "hidden": true
   },
   "outputs": [],
   "source": [
    "restaurant_ids = business_df[\"business_id\"].unique()\n",
    "reviews_df =  reviews_df[reviews_df.business_id.isin(restaurant_ids)]"
   ]
  },
  {
   "cell_type": "code",
   "execution_count": null,
   "metadata": {
    "hidden": true
   },
   "outputs": [],
   "source": [
    "users_df = users_df[users_df.review_count>50]\n",
    "users_df.shape"
   ]
  },
  {
   "cell_type": "markdown",
   "metadata": {
    "hidden": true
   },
   "source": [
    "#### Filter 2 ( you can save the file into .csv after every step to avoid repeating steps due to system hangs due to OutOfMemoryError )\n",
    "- Group by Restaurants based on City and State , and aggregate the review count to find the City-State having 100000 reviews\n",
    "- Retain the reviews of filtered restaurants\n",
    "- Retain the users whose reviews are retained in reviews_df"
   ]
  },
  {
   "cell_type": "code",
   "execution_count": null,
   "metadata": {
    "hidden": true
   },
   "outputs": [],
   "source": [
    "business_df.groupby(['state','city']).agg({\"review_count\":\"sum\"}).sort_values(by='review_count',ascending=False)"
   ]
  },
  {
   "cell_type": "code",
   "execution_count": null,
   "metadata": {
    "hidden": true
   },
   "outputs": [],
   "source": [
    "business_df = business_df[((business_df['state'] == 'MA') & (business_df['city'] == 'Cambridge'))]"
   ]
  },
  {
   "cell_type": "code",
   "execution_count": null,
   "metadata": {
    "hidden": true
   },
   "outputs": [],
   "source": [
    "restaurant_ids = business_df[\"business_id\"].unique()\n",
    "reviews_df =  reviews_df[reviews_df.business_id.isin(restaurant_ids)]"
   ]
  },
  {
   "cell_type": "code",
   "execution_count": null,
   "metadata": {
    "hidden": true
   },
   "outputs": [],
   "source": [
    "unique_users = pd.DataFrame(cambridge_reviews[\"user_id\"].unique(),columns=['user_id'])"
   ]
  },
  {
   "cell_type": "code",
   "execution_count": null,
   "metadata": {
    "hidden": true
   },
   "outputs": [],
   "source": [
    "filterd_user_ids = unique_users['user_id'].tolist()\n",
    "users_df =  users_df[users_df.user_id.isin(filterd_user_ids)]"
   ]
  },
  {
   "cell_type": "markdown",
   "metadata": {
    "hidden": true
   },
   "source": [
    "#### Saving the dataframes into .csv to avoid repeating the steps again"
   ]
  },
  {
   "cell_type": "code",
   "execution_count": null,
   "metadata": {
    "hidden": true
   },
   "outputs": [],
   "source": [
    "business_df.to_csv('filtered_business.csv',index= False)\n",
    "reviews_df.to_csv('filtered_reviews.csv',index= False)\n",
    "users_df.to_csv('filtered_users.csv',index= False)"
   ]
  },
  {
   "cell_type": "code",
   "execution_count": null,
   "metadata": {
    "hidden": true
   },
   "outputs": [],
   "source": [
    "business_df = pd.read_csv('filtered_business.csv')\n",
    "business_df = pd.read_csv('filtered_reviews.csv')\n",
    "business_df = pd.read_csv('filtered_users.csv')"
   ]
  },
  {
   "cell_type": "markdown",
   "metadata": {
    "heading_collapsed": true
   },
   "source": [
    "### Data Cleaning"
   ]
  },
  {
   "cell_type": "markdown",
   "metadata": {
    "hidden": true
   },
   "source": [
    "#### To remove Non-English Reviews from the dataset ( and update reviews_df and users_df )"
   ]
  },
  {
   "cell_type": "code",
   "execution_count": null,
   "metadata": {
    "hidden": true
   },
   "outputs": [],
   "source": [
    "non_eng_review_ids = []\n",
    "reviews_df_1 = reviews_df\n",
    "reviews_df_1['lang'] = reviews_df_1['text'].apply(detect)\n",
    "reviews_df_1 = reviews_df_1[reviews_df_1.lang!='en']"
   ]
  },
  {
   "cell_type": "code",
   "execution_count": null,
   "metadata": {
    "hidden": true
   },
   "outputs": [],
   "source": [
    "non_eng_review_ids.append(reviews_df_1.review_id)\n",
    "non_enlish_review_id_alone = []\n",
    "                          \n",
    "for i in non_eng_review_ids:\n",
    "    for j in i:\n",
    "        non_enlish_review_id_alone.append(j)\n",
    "total_non_english_review = len(non_enlish_review_id_alone)\n",
    "print(\"total non english reviews :\",total_non_english_review)\n",
    "df = pd.DataFrame(non_enlish_review_id_alone)\n",
    "df.to_csv('non_eng_review.csv')"
   ]
  },
  {
   "cell_type": "code",
   "execution_count": null,
   "metadata": {
    "hidden": true
   },
   "outputs": [],
   "source": [
    "df = pd.read_csv('non_eng_review.csv')\n",
    "non_enlish_review_id_alone = pd.DataFrame(df).to_numpy()"
   ]
  },
  {
   "cell_type": "code",
   "execution_count": null,
   "metadata": {
    "hidden": true
   },
   "outputs": [],
   "source": [
    "index_reviews_to_be_dropped = []\n",
    "for i in range(len(non_enlish_review_id_alone)):\n",
    "    reviews_to_be_dropped = reviews_df[reviews_df['review_id']==non_enlish_review_id_alone[i][1]]['text']\n",
    "    index_reviews_to_be_dropped.append(reviews_to_be_dropped.first_valid_index())\n",
    "reviews_df = reviews_df.drop(index_reviews_to_be_dropped)"
   ]
  },
  {
   "cell_type": "code",
   "execution_count": null,
   "metadata": {
    "hidden": true
   },
   "outputs": [],
   "source": [
    "unique_users = pd.DataFrame(reviews_df[\"user_id\"].unique(),columns=['user_id'])\n",
    "filterd_user_ids = unique_users['user_id'].tolist()\n",
    "users_df =  users_df[users_df.user_id.isin(filterd_user_ids)]"
   ]
  },
  {
   "cell_type": "markdown",
   "metadata": {
    "heading_collapsed": true
   },
   "source": [
    "### Exploratory Data Analysis"
   ]
  },
  {
   "cell_type": "code",
   "execution_count": null,
   "metadata": {
    "hidden": true
   },
   "outputs": [],
   "source": [
    "def basic_data_report(df_report,drop_duplicate):\n",
    "    BOLD = '\\033[1m'\n",
    "    END = '\\033[0m'\n",
    "    categorical_variables = df_report.select_dtypes(include = 'object')\n",
    "    print(BOLD + \"head\"+ END, df_report.head(),\"\\n\")\n",
    "    print(BOLD + \"rows,columns :\"+END,df_report.shape,\"\\n\")\n",
    "    print(BOLD +\"Column & Data Type \\n\"+END,df_report.dtypes,\"\\n\")\n",
    "    print(BOLD +\"Columns and Corresponding nullValues\\n\"+END,df_report.isnull().sum(),\"\\n\")\n",
    "    print(BOLD + \"Sample \\n\"+END,df_report.sample(5),\"\\n\")\n",
    "    print(BOLD + \"Number of Duplicated rows \\n\"+END,df_report.duplicated().sum(),\"\\n\")\n",
    "    print(BOLD + \"Describing the numeric features \\n\"+END,df_report.describe(),\"\\n\")\n",
    "    print(BOLD+\"Describing Categorical variables\"+END)\n",
    "    for idx,variable in enumerate(categorical_variables.columns):\n",
    "        print(BOLD+variable+END,\"\\n\",categorical_variables[variable].value_counts(),\"\\n\")\n",
    "    if drop_duplicate:\n",
    "        global df\n",
    "        df = df_report.drop_duplicates()\n",
    "        print(\"rows after removing duplicates\",df.shape[0])"
   ]
  },
  {
   "cell_type": "markdown",
   "metadata": {
    "hidden": true
   },
   "source": [
    "#### business_df"
   ]
  },
  {
   "cell_type": "code",
   "execution_count": null,
   "metadata": {
    "hidden": true
   },
   "outputs": [],
   "source": [
    "basic_data_report(business_df,True)"
   ]
  },
  {
   "cell_type": "markdown",
   "metadata": {
    "ExecuteTime": {
     "end_time": "2021-05-04T16:36:18.630141Z",
     "start_time": "2021-05-04T16:36:18.617144Z"
    },
    "hidden": true
   },
   "source": [
    "**Insights**\n",
    "1.   We are only considering Cambridge city and there are 331 businesses there\n",
    "2.   Most popular restaurant chains are Clovers food lab , Darvins \n",
    "3.   Pizza and Mexican are most common categories \n",
    "4.   We dont have any null values in this business dataframe. "
   ]
  },
  {
   "cell_type": "code",
   "execution_count": null,
   "metadata": {
    "hidden": true
   },
   "outputs": [],
   "source": [
    "x= business_df['stars'].value_counts()\n",
    "x = x.sort_index()\n",
    "\n",
    "plt.figure(figsize=(8,4))\n",
    "ax = sns.barplot(x.index,x.values,alpha = 0.8)\n",
    "plt.title('Star rating Distribution')\n",
    "plt.ylabel('No of restaurant',fontsize = 12)\n",
    "plt.xlabel('Star ratings',fontsize = 12)"
   ]
  },
  {
   "cell_type": "markdown",
   "metadata": {
    "ExecuteTime": {
     "end_time": "2021-05-04T16:37:29.755642Z",
     "start_time": "2021-05-04T16:37:29.738649Z"
    },
    "hidden": true
   },
   "source": [
    "**Insights**\n",
    "1. 4 is the most common rating given and few restaurants have 5 ratings. Lets learn more about the restaurants with top ratings and review counts"
   ]
  },
  {
   "cell_type": "code",
   "execution_count": null,
   "metadata": {
    "hidden": true
   },
   "outputs": [],
   "source": [
    "## Restaurants with top ratings and review count\n",
    "\n",
    "restaurant_with_rating = business_df[['name','stars','review_count','city','state']]\n",
    "restaurant_with_rating.sort_values(by = ['stars','review_count'],ascending = [False,False])"
   ]
  },
  {
   "cell_type": "code",
   "execution_count": null,
   "metadata": {
    "hidden": true
   },
   "outputs": [],
   "source": [
    "## Total Top Restaurants in Current City\n",
    "\n",
    "Cambridge_top_df = restaurant_with_rating[(restaurant_with_rating.city=='Cambridge') & (restaurant_with_rating.stars>=4) & (restaurant_with_rating.review_count>= 100)]\n",
    "print(\"Top restaurants in current city \",len(Cambridge_top_df))"
   ]
  },
  {
   "cell_type": "code",
   "execution_count": null,
   "metadata": {
    "hidden": true
   },
   "outputs": [],
   "source": [
    "## Explore number of reviews versus star rates\n",
    "import seaborn as sns\n",
    "sns.swarmplot(x=\"stars\", y=\"review_count\", data=business_df).set_title(\"Relationship of stars and number of reviews\")"
   ]
  },
  {
   "cell_type": "code",
   "execution_count": null,
   "metadata": {
    "hidden": true
   },
   "outputs": [],
   "source": [
    "## Analyzing the Tags given for Restaurants\n",
    "\n",
    "restaurant_categories = []\n",
    "for each_business in business_df.categories:\n",
    "    seperate_each_business = each_business.split(',')\n",
    "    for unique_category in seperate_each_business:\n",
    "        if unique_category not in restaurant_categories:\n",
    "            restaurant_categories.append(unique_category)  \n",
    "print(restaurant_categories)"
   ]
  },
  {
   "cell_type": "code",
   "execution_count": null,
   "metadata": {
    "hidden": true
   },
   "outputs": [],
   "source": [
    "## Plot the number of restaurants for different categories\n",
    "\n",
    "Category=restaurant_categories\n",
    "cat=[]\n",
    "for i in business_df['categories'].values:\n",
    "    cator=[j for j in Category if j in i]\n",
    "    if cator != []:\n",
    "        cator=cator[0]\n",
    "    else:\n",
    "        cator='Others'\n",
    "    cat.append(cator)\n",
    "business_df['Simple_Category']=cat\n",
    "category_number=business_df.groupby('Simple_Category').count()\n",
    "plot_x=category_number.index.values\n",
    "plot_y=category_number['business_id'].values\n",
    "\n",
    "#chart\n",
    "plt.figure(figsize=(30,4))\n",
    "ax = sns.barplot(plot_x, plot_y, alpha=0.8)\n",
    "plt.title(\"Number of restaurants for different categories\",fontsize=12)\n",
    "locs, labels = plt.xticks()\n",
    "plt.ylabel('Number', fontsize=12)\n",
    "plt.xlabel('Restaurant Categorye', fontsize=12)\n",
    "\n",
    "#adding the text labels\n",
    "rects = ax.patches\n",
    "labels = plot_y\n",
    "for rect, label in zip(rects, labels):\n",
    "    height = rect.get_height()\n",
    "    ax.text(rect.get_x() + rect.get_width()/2, height + 5, label, ha='center', va='bottom')\n",
    "\n",
    "plt.show()"
   ]
  },
  {
   "cell_type": "code",
   "execution_count": null,
   "metadata": {
    "hidden": true
   },
   "outputs": [],
   "source": [
    "## Word Cloud Generation for Tags of Restaurants\n",
    "\n",
    "def wc(data,bgcolor,title):\n",
    "    plt.figure(figsize = (50,50))\n",
    "    wc = wordcloud.WordCloud(background_color = bgcolor, max_words = 100,  max_font_size = 25)\n",
    "    wc.generate(' '.join(data))\n",
    "    plt.imshow(wc)\n",
    "    plt.axis('off')\n",
    "wc(restaurant_categories,'white','most common categories')"
   ]
  },
  {
   "cell_type": "markdown",
   "metadata": {
    "hidden": true
   },
   "source": [
    "##### reviews_df"
   ]
  },
  {
   "cell_type": "code",
   "execution_count": null,
   "metadata": {
    "hidden": true
   },
   "outputs": [],
   "source": [
    "basic_data_report(reviews_df,True)"
   ]
  },
  {
   "cell_type": "code",
   "execution_count": null,
   "metadata": {
    "hidden": true
   },
   "outputs": [],
   "source": [
    "useful_reviews = len(reviews_df[reviews_df[\"useful\"]>0])\n",
    "cool_reviews = len(reviews_df[reviews_df[\"cool\"]>0])\n",
    "funny_reviews = len(reviews_df[reviews_df[\"funny\"]>0])\n",
    "negative_reviws = len(reviews_df[reviews_df[\"stars\"]<=3])\n",
    "positive_reviews =len(reviews_df[reviews_df[\"stars\"]>3])\n",
    "total_reviews = len(reviews_df)\n",
    "\n",
    "print(\"Total reviews: {}\".format(total_reviews))\n",
    "print(\"Useful reviews: {}\".format(useful_reviews))\n",
    "print(\"Funny reviews: {}\".format(funny_reviews))\n",
    "print(\"Cool reviews: {}\".format(cool_reviews))\n",
    "print(\"Total negative reviews: {}\".format(negative_reviws))\n",
    "print(\"Total positive reviews: {}\".format(positive_reviews))"
   ]
  },
  {
   "cell_type": "code",
   "execution_count": null,
   "metadata": {
    "hidden": true
   },
   "outputs": [],
   "source": [
    "bag_of_words = reviews_df.text.str.lower().str.cat(sep = ' ')\n",
    "bag_of_words = bag_of_words.replace('\\n',' ')\n",
    "stop_words = list(get_stop_words('en'))         \n",
    "nltk_words = list(stopwords.words('english'))   \n",
    "stop_words.extend(nltk_words)\n",
    "extra_words = ['ve', 'like', 'got', 'Cleveland', 'just', 'don', 'really', 'said', 'told', 'ok',\n",
    "               'came', 'went', 'did', 'didn', 'good','also','even','restaurant','ordered','order',\n",
    "               'much','well','back','menu','little','still','think','take','looking','look','although',\n",
    "               'enough','probably','still','give','everything','want','usually','always']\n",
    "stop_words.extend(extra_words)"
   ]
  },
  {
   "cell_type": "code",
   "execution_count": null,
   "metadata": {
    "hidden": true
   },
   "outputs": [],
   "source": [
    "word_tokens = word_tokenize(bag_of_words)\n",
    "\n",
    "filtered_sentence = []\n",
    "for w in word_tokens:\n",
    "    if w not in stop_words:\n",
    "        filtered_sentence.append(w)\n",
    "        \n",
    "# Remove characters which have length less than 2  \n",
    "without_single_chr = [word for word in filtered_sentence if len(word) > 3]\n",
    "\n",
    "# Remove numbers\n",
    "cleaned_data_title = [word for word in without_single_chr if not word.isnumeric()]"
   ]
  },
  {
   "cell_type": "code",
   "execution_count": null,
   "metadata": {
    "hidden": true
   },
   "outputs": [],
   "source": [
    "top_N = 100\n",
    "word_dist = nltk.FreqDist(cleaned_data_title)\n",
    "rslt = pd.DataFrame(word_dist.most_common(top_N),\n",
    "                    columns=['Word', 'Frequency'])\n",
    "\n",
    "plt.figure(figsize=(15,5))\n",
    "sns.set_style(\"whitegrid\")\n",
    "ax = sns.barplot(x=\"Word\",y=\"Frequency\", data=rslt.head(20))"
   ]
  },
  {
   "cell_type": "code",
   "execution_count": null,
   "metadata": {
    "hidden": true
   },
   "outputs": [],
   "source": [
    "## Most used words in reviews\n",
    "wc(cleaned_data_title,'black','Most Used Words')"
   ]
  },
  {
   "cell_type": "markdown",
   "metadata": {
    "hidden": true
   },
   "source": [
    "##### GetBigramsForRestaurant "
   ]
  },
  {
   "cell_type": "code",
   "execution_count": null,
   "metadata": {
    "hidden": true
   },
   "outputs": [],
   "source": [
    "def GetBiGramForReview(txt1):\n",
    "    vectorizer = CountVectorizer(stop_words = stop_words,ngram_range =(2, 2))\n",
    "    X1 = vectorizer.fit_transform(txt1) \n",
    "    features = (vectorizer.get_feature_names())\n",
    "    #print(\"\\n\\nX1 : \\n\", X1.toarray())\n",
    "\n",
    "    # Applying TFIDF\n",
    "    # You can still get n-grams here\n",
    "    vectorizer = TfidfVectorizer(stop_words = stop_words,ngram_range = (2, 2))\n",
    "    X2 = vectorizer.fit_transform(txt1)\n",
    "    scores = (X2.toarray())\n",
    "    #print(\"\\n\\nScores : \\n\", scores)\n",
    "\n",
    "    # Getting top ranking features\n",
    "    sums = X2.sum(axis = 0)\n",
    "    data1 = []\n",
    "    for col, term in enumerate(features):\n",
    "        data1.append( (term, sums[0, col] ))\n",
    "    ranking = pd.DataFrame(data1, columns = ['term', 'rank'])\n",
    "    words = (ranking.sort_values('rank', ascending = False))\n",
    "    print (\"\\n\\nWords : \\n\", words.head(10))"
   ]
  },
  {
   "cell_type": "code",
   "execution_count": null,
   "metadata": {
    "hidden": true
   },
   "outputs": [],
   "source": [
    "#Get all the reviews for this particular restaurant when passed restaurant id(business id)\n",
    "reviews_particular_id = reviews_df[reviews_df['business_id']=='bul_5Ahk_QYLUAJ4Od27jg']\n",
    "pos_reviews = reviews_particular_id[reviews_particular_id.stars > 3].text\n",
    "neg_reviews = reviews_particular_id[reviews_particular_id.stars<=3].text\n",
    "print(\"Bigrams for Positive Reviews\")\n",
    "GetBiGramForReview(pos_reviews)\n",
    "print(\"Bigrams for Negative Reviews\")\n",
    "GetBiGramForReview(neg_reviews)"
   ]
  },
  {
   "cell_type": "markdown",
   "metadata": {
    "hidden": true
   },
   "source": [
    "#### users_df"
   ]
  },
  {
   "cell_type": "code",
   "execution_count": null,
   "metadata": {
    "hidden": true
   },
   "outputs": [],
   "source": [
    "basic_data_report(users_df,True)"
   ]
  },
  {
   "cell_type": "code",
   "execution_count": null,
   "metadata": {
    "hidden": true
   },
   "outputs": [],
   "source": [
    "(users_df['friends']==\"None\").sum()"
   ]
  },
  {
   "cell_type": "code",
   "execution_count": null,
   "metadata": {
    "hidden": true
   },
   "outputs": [],
   "source": [
    "users_df = users_df[users_df['friends']!='None']"
   ]
  },
  {
   "cell_type": "code",
   "execution_count": null,
   "metadata": {
    "hidden": true
   },
   "outputs": [],
   "source": [
    "## Printing the number of friends each user got and maximum number of friends people got\n",
    "no_of_friends_of_each_user = []\n",
    "for idx,friend in enumerate(users_df.friends):\n",
    "    eachfriend = friend.split(',')\n",
    "    no_of_friends_of_each_user.append(len(eachfriend))\n",
    "users_df['Number of friends'] = no_of_friends_of_each_user\n",
    "users_df"
   ]
  },
  {
   "cell_type": "markdown",
   "metadata": {
    "hidden": true
   },
   "source": [
    "##### Removing the friends from other cities\n"
   ]
  },
  {
   "cell_type": "code",
   "execution_count": null,
   "metadata": {
    "hidden": true
   },
   "outputs": [],
   "source": [
    "user_friends = []\n",
    "number_of_friends = []\n",
    "\n",
    "for idx,friend in enumerate(users_df.friends):\n",
    "    eachuser = friend.split(',')\n",
    "    print(eachuser)\n",
    "    for idy,each_friend in enumerate(eachuser):\n",
    "        if (each_friend.strip() in filterd_user_ids):\n",
    "            pass\n",
    "        else:\n",
    "            eachuser.remove(each_friend)\n",
    "    user_friends.append(eachuser)\n",
    "    number_of_friends.append(len(eachuser))\n",
    "    print('\\n')\n",
    "\n",
    "users_df['friends'] = user_friends\n",
    "users_df['Number of friends'] = number_of_friends"
   ]
  },
  {
   "cell_type": "code",
   "execution_count": null,
   "metadata": {
    "hidden": true
   },
   "outputs": [],
   "source": [
    "#friends distribution before removing the friends from other cities\n",
    "fig, ax = plt.subplots(1, 1)\n",
    "\n",
    "# Add axis labels\n",
    "ax.set_xlabel('NumberOffriends')\n",
    "ax.set_ylabel('Frequency');\n",
    "ax.set_yscale('log')\n",
    "# Generate the histogram for the low-density fed mother\n",
    "ax.hist(no_of_friends_of_each_user,bins = 50)\n",
    "plt.show()"
   ]
  },
  {
   "cell_type": "code",
   "execution_count": null,
   "metadata": {
    "hidden": true
   },
   "outputs": [],
   "source": [
    "#friends distribution (considering only friends from cambridge)\n",
    "fig, ax = plt.subplots(1, 1)\n",
    "\n",
    "# Add axis labels\n",
    "ax.set_xlabel('NumberOffriends')\n",
    "ax.set_ylabel('Frequency');\n",
    "ax.set_yscale('log')\n",
    "# Generate the histogram for the low-density fed mother\n",
    "ax.hist(number_of_friends,bins = 50)\n",
    "plt.show()"
   ]
  },
  {
   "cell_type": "markdown",
   "metadata": {
    "heading_collapsed": true
   },
   "source": [
    "### Save Final Snapshot of Dataframes"
   ]
  },
  {
   "cell_type": "code",
   "execution_count": null,
   "metadata": {
    "hidden": true
   },
   "outputs": [],
   "source": [
    "business_df.to_csv('cleaned_business.csv',index = False)\n",
    "reviews_df.to_csv('cleaned_reviews.csv',index= False)\n",
    "users_df.to_csv('cleaned_users.csv',index=False)"
   ]
  }
 ],
 "metadata": {
  "hide_input": false,
  "kernelspec": {
   "display_name": "Python 3",
   "language": "python",
   "name": "python3"
  },
  "language_info": {
   "codemirror_mode": {
    "name": "ipython",
    "version": 3
   },
   "file_extension": ".py",
   "mimetype": "text/x-python",
   "name": "python",
   "nbconvert_exporter": "python",
   "pygments_lexer": "ipython3",
   "version": "3.8.5"
  },
  "toc": {
   "base_numbering": 1,
   "nav_menu": {},
   "number_sections": true,
   "sideBar": true,
   "skip_h1_title": false,
   "title_cell": "Table of Contents",
   "title_sidebar": "Contents",
   "toc_cell": false,
   "toc_position": {},
   "toc_section_display": true,
   "toc_window_display": false
  },
  "varInspector": {
   "cols": {
    "lenName": 16,
    "lenType": 16,
    "lenVar": 40
   },
   "kernels_config": {
    "python": {
     "delete_cmd_postfix": "",
     "delete_cmd_prefix": "del ",
     "library": "var_list.py",
     "varRefreshCmd": "print(var_dic_list())"
    },
    "r": {
     "delete_cmd_postfix": ") ",
     "delete_cmd_prefix": "rm(",
     "library": "var_list.r",
     "varRefreshCmd": "cat(var_dic_list()) "
    }
   },
   "oldHeight": 122.22200000000001,
   "position": {
    "height": "40px",
    "left": "1436.67px",
    "right": "20px",
    "top": "120px",
    "width": "250px"
   },
   "types_to_exclude": [
    "module",
    "function",
    "builtin_function_or_method",
    "instance",
    "_Feature"
   ],
   "varInspector_section_display": "none",
   "window_display": true
  }
 },
 "nbformat": 4,
 "nbformat_minor": 2
}
